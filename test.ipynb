{
 "cells": [
  {
   "cell_type": "code",
   "execution_count": 3,
   "metadata": {},
   "outputs": [
    {
     "name": "stdout",
     "output_type": "stream",
     "text": [
      "賓果賓果 : -------------\n",
      "開獎日期 : 111/12/13 第111070262期 \n",
      "開出獎號 : 03 05 06 09 11 12 14 30 31 32 34 36 43 44 48 51 72 77 79 80 \n",
      "超級號 :79\n",
      "猜大小 :－\n",
      "猜單雙 :小雙\n"
     ]
    }
   ],
   "source": [
    "import requests\n",
    "\n",
    "from bs4 import BeautifulSoup\n",
    "\n",
    "res=requests.get('https://www.taiwanlottery.com.tw/index_new.aspx')\n",
    "\n",
    "bsObj=BeautifulSoup(res.content,\"lxml\")\n",
    "\n",
    "ball=bsObj.find('div',{'id':'rightdown'}).findAll('div',class_='ball_tx ball_yellow')\n",
    "\n",
    "lottery_list=[]\n",
    "\n",
    "print('賓果賓果 : -------------')\n",
    "a=\"\"\n",
    "a+=f\"開獎日期 : {bsObj.find('div', {'id': 'rightdown'}).findAll('span', class_='font_black15')[0].text}\\n\"\n",
    "\n",
    "\n",
    "\n",
    "a+=\"開出獎號 : \"\n",
    "\n",
    "for index in range(0,20):\n",
    "\n",
    "    a+=f\"{ball[index].text}\"\n",
    "\n",
    "\n",
    "a+=f\"\\n超級號 :{bsObj.find('div',{'id':'rightdown'}).findAll('div',class_='ball_red')[0].text}\\n\"\n",
    "a+=f\"猜大小 :{bsObj.find('div',{'id':'rightdown'}).findAll('div',class_='ball_blue_BB1')[0].text}\\n\"\n",
    "a+=f\"猜單雙 :{bsObj.find('div',{'id':'rightdown'}).findAll('div',class_='ball_blue_BB2')[0].text}\"\n",
    "\n",
    "print(a)"
   ]
  },
  {
   "cell_type": "code",
   "execution_count": 2,
   "metadata": {},
   "outputs": [
    {
     "name": "stdout",
     "output_type": "stream",
     "text": [
      "雙贏彩開獎 : -------------\n",
      "開獎日期 : 111/12/10 第111000295期 \n",
      "開出順序 : 13  11  18  16  06  08  03  07  22  04  02  15  \n",
      "大小順序 : 02  03  04  06  07  08  11  13  15  16  18  22  \n"
     ]
    }
   ],
   "source": [
    "import requests\n",
    "\n",
    "from bs4 import BeautifulSoup\n",
    "\n",
    "res = requests.get('https://www.taiwanlottery.com.tw/index_new.aspx')\n",
    "\n",
    "bsObj = BeautifulSoup(res.content, \"lxml\")\n",
    "\n",
    "ball_blue = bsObj.find('div', {'id': 'rightdown'}).findAll(\n",
    "    'div', class_='ball_tx ball_blue')\n",
    "\n",
    "print('雙贏彩開獎 : -------------')\n",
    "print('開獎日期 :', bsObj.find('div', {'id': 'rightdown'}).findAll(\n",
    "    'span', class_='font_black15')[1].text)\n",
    "\n",
    "print('開出順序 :', end=' ')\n",
    "\n",
    "for index in range(0, 12):\n",
    "\n",
    "    print(ball_blue[index].text, end=' ')\n",
    "\n",
    "print()\n",
    "\n",
    "print('大小順序 :', end=' ')\n",
    "\n",
    "for index in range(12, 24):\n",
    "\n",
    "    print(ball_blue[index].text, end=' ')\n",
    "\n",
    "print()\n"
   ]
  },
  {
   "cell_type": "code",
   "execution_count": 3,
   "metadata": {},
   "outputs": [
    {
     "name": "stdout",
     "output_type": "stream",
     "text": [
      "威力彩開獎 : -------------\n",
      "開獎日期 : 111/12/8 第111000098期 \n",
      "開出順序 : 21  15  08  12  25  14  \n",
      "大小順序 : 08  12  14  15  21  25  \n",
      "特別號 : 04 \n"
     ]
    }
   ],
   "source": [
    "import requests\n",
    "\n",
    "from bs4 import BeautifulSoup\n",
    "\n",
    "res = requests.get('https://www.taiwanlottery.com.tw/index_new.aspx')\n",
    "\n",
    "bsObj = BeautifulSoup(res.content, \"lxml\")\n",
    "\n",
    "ball_green = bsObj.find('div', {'id': 'rightdown'}).findAll(\n",
    "    'div', class_='ball_tx ball_green')\n",
    "\n",
    "print('威力彩開獎 : -------------')\n",
    "print('開獎日期 :', bsObj.find('div', {'id': 'rightdown'}).findAll(\n",
    "    'span', class_='font_black15')[2].text)\n",
    "\n",
    "print('開出順序 :', end=' ')\n",
    "\n",
    "for index in range(0, 6):\n",
    "\n",
    "    print(ball_green[index].text, end=' ')\n",
    "\n",
    "print()\n",
    "\n",
    "print('大小順序 :', end=' ')\n",
    "\n",
    "for index in range(6, 12):\n",
    "\n",
    "    print(ball_green[index].text, end=' ')\n",
    "\n",
    "print()\n",
    "print('特別號 :', bsObj.find('div', {'id': 'rightdown'}).findAll(\n",
    "    'div', class_='ball_red')[1].text)\n"
   ]
  },
  {
   "cell_type": "code",
   "execution_count": 4,
   "metadata": {},
   "outputs": [
    {
     "name": "stdout",
     "output_type": "stream",
     "text": [
      "38樂合彩開獎 : -------------\n",
      "開獎日期 : 111/12/8 第111000098期 \n",
      "開出順序 : 21  15  08  12  25  14  \n",
      "大小順序 : 08  12  14  15  21  25  \n"
     ]
    }
   ],
   "source": [
    "import requests\n",
    "\n",
    "from bs4 import BeautifulSoup\n",
    "\n",
    "res = requests.get('https://www.taiwanlottery.com.tw/index_new.aspx')\n",
    "\n",
    "bsObj = BeautifulSoup(res.content, \"lxml\")\n",
    "\n",
    "ball = bsObj.find('div', {'id': 'rightdown'}).findAll(\n",
    "    'div', class_='ball_tx ball_green')\n",
    "\n",
    "print('38樂合彩開獎 : -------------')\n",
    "print('開獎日期 :', bsObj.find('div', {'id': 'rightdown'}).findAll(\n",
    "    'span', class_='font_black15')[3].text)\n",
    "\n",
    "print('開出順序 :', end=' ')\n",
    "\n",
    "for index in range(12, 18):\n",
    "\n",
    "    print(ball[index].text, end=' ')\n",
    "\n",
    "print()\n",
    "\n",
    "print('大小順序 :', end=' ')\n",
    "\n",
    "for index in range(18, 24):\n",
    "\n",
    "    print(ball[index].text, end=' ')\n",
    "\n",
    "print()\n"
   ]
  },
  {
   "cell_type": "code",
   "execution_count": 5,
   "metadata": {},
   "outputs": [
    {
     "name": "stdout",
     "output_type": "stream",
     "text": [
      "大樂透開獎 : -------------\n",
      "開獎日期 : 111/12/9 第111000108期 \n",
      "開出順序 : 48  22  40  45  16  10  \n",
      "大小順序 : 10  16  22  40  45  48  \n",
      "特別號 : 31 \n"
     ]
    }
   ],
   "source": [
    "import requests\n",
    "\n",
    "from bs4 import BeautifulSoup\n",
    "\n",
    "res=requests.get('https://www.taiwanlottery.com.tw/index_new.aspx')\n",
    "\n",
    "bsObj=BeautifulSoup(res.content,\"lxml\")\n",
    "\n",
    "ball=bsObj.find('div',{'id':'rightdown'}).findAll('div',class_='ball_tx ball_yellow')\n",
    "\n",
    "print('大樂透開獎 : -------------')\n",
    "\n",
    "print('開獎日期 :', bsObj.find('div', {'id': 'rightdown'}).findAll(\n",
    "    'span', class_='font_black15')[4].text)\n",
    "\n",
    "print('開出順序 :',end=' ')\n",
    "\n",
    "for index in range(20,26):\n",
    "\n",
    "    print(ball[index].text,end=' ')\n",
    "\n",
    "print()\n",
    "\n",
    "print('大小順序 :',end=' ')\n",
    "\n",
    "for index in range(26,32):\n",
    "\n",
    "    print(ball[index].text,end=' ')\n",
    "\n",
    "print()\n",
    "\n",
    "print('特別號 :',bsObj.find('div',{'id':'rightdown'}).findAll('div',class_='ball_red')[2].text)"
   ]
  },
  {
   "cell_type": "code",
   "execution_count": 6,
   "metadata": {},
   "outputs": [
    {
     "name": "stdout",
     "output_type": "stream",
     "text": [
      "49樂合彩開獎 : -------------\n",
      "開獎日期 : 111/12/9 第111000108期 \n",
      "開出順序 : 48  22  40  45  16  10  \n",
      "大小順序 : 10  16  22  40  45  48  \n"
     ]
    }
   ],
   "source": [
    "import requests\n",
    "\n",
    "from bs4 import BeautifulSoup\n",
    "\n",
    "res = requests.get('https://www.taiwanlottery.com.tw/index_new.aspx')\n",
    "\n",
    "bsObj = BeautifulSoup(res.content, \"lxml\")\n",
    "\n",
    "ball = bsObj.find('div', {'id': 'rightdown'}).findAll(\n",
    "    'div', class_='ball_tx ball_yellow')\n",
    "\n",
    "print('49樂合彩開獎 : -------------')\n",
    "print('開獎日期 :', bsObj.find('div', {'id': 'rightdown'}).findAll(\n",
    "    'span', class_='font_black15')[5].text)\n",
    "\n",
    "print('開出順序 :', end=' ')\n",
    "\n",
    "for index in range(32, 38):\n",
    "\n",
    "    print(ball[index].text, end=' ')\n",
    "\n",
    "print()\n",
    "\n",
    "print('大小順序 :', end=' ')\n",
    "\n",
    "for index in range(38, 44):\n",
    "\n",
    "    print(ball[index].text, end=' ')\n",
    "\n",
    "print()\n"
   ]
  },
  {
   "cell_type": "code",
   "execution_count": 7,
   "metadata": {},
   "outputs": [
    {
     "name": "stdout",
     "output_type": "stream",
     "text": [
      "今彩539開獎 : -------------\n",
      "開獎日期 : 111/12/10 第111000295期 \n",
      "開出順序 : 29  39  18  08  10  \n",
      "大小順序 : 08  10  18  29  39  \n"
     ]
    }
   ],
   "source": [
    "import requests\n",
    "\n",
    "from bs4 import BeautifulSoup\n",
    "\n",
    "res = requests.get('https://www.taiwanlottery.com.tw/index_new.aspx')\n",
    "\n",
    "bsObj = BeautifulSoup(res.content, \"lxml\")\n",
    "\n",
    "ball = bsObj.find('div', {'id': 'rightdown'}).findAll(\n",
    "    'div', class_='ball_tx ball_lemon')\n",
    "\n",
    "print('今彩539開獎 : -------------')\n",
    "print('開獎日期 :', bsObj.find('div', {'id': 'rightdown'}).findAll(\n",
    "    'span', class_='font_black15')[6].text)\n",
    "\n",
    "print('開出順序 :', end=' ')\n",
    "\n",
    "for index in range(0, 5):\n",
    "\n",
    "    print(ball[index].text, end=' ')\n",
    "\n",
    "print()\n",
    "\n",
    "print('大小順序 :', end=' ')\n",
    "\n",
    "for index in range(5, 10):\n",
    "\n",
    "    print(ball[index].text, end=' ')\n",
    "\n",
    "print()\n"
   ]
  },
  {
   "cell_type": "code",
   "execution_count": 8,
   "metadata": {},
   "outputs": [
    {
     "name": "stdout",
     "output_type": "stream",
     "text": [
      "39樂合彩 : -------------\n",
      "開獎日期 : 111/12/10 第111000295期 \n",
      "開出順序 : 29  39  18  08  10  \n",
      "大小順序 : 08  10  18  29  39  \n"
     ]
    }
   ],
   "source": [
    "import requests\n",
    "\n",
    "from bs4 import BeautifulSoup\n",
    "\n",
    "res = requests.get('https://www.taiwanlottery.com.tw/index_new.aspx')\n",
    "\n",
    "bsObj = BeautifulSoup(res.content, \"lxml\")\n",
    "\n",
    "ball_lemon = bsObj.find('div', {'id': 'rightdown'}).findAll(\n",
    "    'div', class_='ball_tx ball_lemon')\n",
    "\n",
    "print('39樂合彩 : -------------')\n",
    "print('開獎日期 :', bsObj.find('div', {'id': 'rightdown'}).findAll(\n",
    "    'span', class_='font_black15')[7].text)\n",
    "\n",
    "print('開出順序 :', end=' ')\n",
    "\n",
    "for index in range(10, 15):\n",
    "\n",
    "    print(ball_lemon[index].text, end=' ')\n",
    "\n",
    "print()\n",
    "\n",
    "print('大小順序 :', end=' ')\n",
    "\n",
    "for index in range(15, 20):\n",
    "\n",
    "    print(ball_lemon[index].text, end=' ')\n",
    "\n",
    "print()\n"
   ]
  },
  {
   "cell_type": "code",
   "execution_count": 10,
   "metadata": {},
   "outputs": [
    {
     "name": "stdout",
     "output_type": "stream",
     "text": [
      "3星彩開獎 : -------------\n",
      "開獎日期 : 111/12/10 第111000295期 \n",
      "中獎號碼 : 6 6 4 \n"
     ]
    }
   ],
   "source": [
    "import requests\n",
    "\n",
    "from bs4 import BeautifulSoup\n",
    "\n",
    "res = requests.get('https://www.taiwanlottery.com.tw/index_new.aspx')\n",
    "\n",
    "bsObj = BeautifulSoup(res.content, \"lxml\")\n",
    "\n",
    "ball = bsObj.find('div', {'id': 'rightdown'}).findAll(\n",
    "    'div', class_='ball_tx ball_purple')\n",
    "\n",
    "print('3星彩開獎 : -------------')\n",
    "print('開獎日期 :', bsObj.find('div', {'id': 'rightdown'}).findAll(\n",
    "    'span', class_='font_black15')[8].text)\n",
    "\n",
    "print('中獎號碼 :', end=' ')\n",
    "\n",
    "for index in range(0, 3):\n",
    "\n",
    "    print(ball[index].text, end=' ')\n",
    "\n",
    "print()\n"
   ]
  },
  {
   "cell_type": "code",
   "execution_count": null,
   "metadata": {},
   "outputs": [],
   "source": [
    "import requests\n",
    "\n",
    "from bs4 import BeautifulSoup\n",
    "\n",
    "res = requests.get('https://www.taiwanlottery.com.tw/index_new.aspx')\n",
    "\n",
    "bsObj = BeautifulSoup(res.content, \"lxml\")\n",
    "\n",
    "ball_purple = bsObj.find('div', {'id': 'rightdown'}).findAll(\n",
    "    'div', class_='ball_tx ball_purple')\n",
    "\n",
    "print('4星彩開獎 : -------------')\n",
    "print('開獎日期 :', bsObj.find('div', {'id': 'rightdown'}).findAll(\n",
    "    'span', class_='font_black15')[9].text)\n",
    "\n",
    "print('中獎號碼 :', end=' ')\n",
    "\n",
    "for index in range(3, 7):\n",
    "\n",
    "    print(ball[index].text, end=' ')\n",
    "\n",
    "print()\n"
   ]
  }
 ],
 "metadata": {
  "kernelspec": {
   "display_name": "Python 3.10.7 ('venv01')",
   "language": "python",
   "name": "python3"
  },
  "language_info": {
   "codemirror_mode": {
    "name": "ipython",
    "version": 3
   },
   "file_extension": ".py",
   "mimetype": "text/x-python",
   "name": "python",
   "nbconvert_exporter": "python",
   "pygments_lexer": "ipython3",
   "version": "3.10.7"
  },
  "orig_nbformat": 4,
  "vscode": {
   "interpreter": {
    "hash": "cd2010f8b39e39c3aea1e59c01841245cded2a3b3c2d7a52858b65e0b07d8adf"
   }
  }
 },
 "nbformat": 4,
 "nbformat_minor": 2
}
